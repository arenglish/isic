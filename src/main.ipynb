{
 "cells": [
  {
   "cell_type": "code",
   "execution_count": 1,
   "metadata": {
    "collapsed": true,
    "pycharm": {
     "name": "#%%\n"
    }
   },
   "outputs": [
    {
     "name": "stderr",
     "output_type": "stream",
     "text": [
      "/usr/local/lib/python3.8/dist-packages/skimage/io/manage_plugins.py:23: UserWarning: Your installed pillow version is < 7.1.0. Several security issues (CVE-2020-11538, CVE-2020-10379, CVE-2020-10994, CVE-2020-10177) have been fixed in pillow 7.1.0 or higher. We recommend to upgrade this library.\n",
      "  from .collection import imread_collection_wrapper\n"
     ]
    },
    {
     "name": "stdout",
     "output_type": "stream",
     "text": [
      "Processing image  1 / 5932\n",
      "Processing image  2 / 5932\n",
      "Processing image  3 / 5932\n",
      "Processing image  4 / 5932\n",
      "Processing image  5 / 5932\n",
      "Processing image  6 / 5932\n",
      "Processing image  7 / 5932\n",
      "Processing image  8 / 5932\n",
      "Processing image  9 / 5932\n",
      "Processing image  10 / 5932\n",
      "Processing image  11 / 5932\n",
      "Processing image  12 / 5932\n",
      "Processing image  13 / 5932\n",
      "Processing image  14 / 5932\n",
      "Processing image  15 / 5932\n",
      "Processing image  16 / 5932\n",
      "Processing image  17 / 5932\n",
      "Processing image  18 / 5932\n",
      "Processing image  19 / 5932\n",
      "Processing image  20 / 5932\n",
      "Processing image  21 / 5932\n",
      "Processing image  22 / 5932\n",
      "Processing image  23 / 5932\n",
      "Processing image  24 / 5932\n",
      "Processing image  25 / 5932\n",
      "Processing image  26 / 5932\n"
     ]
    },
    {
     "ename": "AttributeError",
     "evalue": "'bool' object has no attribute 'orientation'",
     "output_type": "error",
     "traceback": [
      "\u001B[0;31m---------------------------------------------------------------------------\u001B[0m",
      "\u001B[0;31mAttributeError\u001B[0m                            Traceback (most recent call last)",
      "\u001B[0;32m/tmp/ipykernel_4104/962647386.py\u001B[0m in \u001B[0;36m<module>\u001B[0;34m\u001B[0m\n\u001B[1;32m     66\u001B[0m     \u001B[0;31m#mask = read_image.readImage(maskPath)\u001B[0m\u001B[0;34m\u001B[0m\u001B[0;34m\u001B[0m\u001B[0;34m\u001B[0m\u001B[0m\n\u001B[1;32m     67\u001B[0m \u001B[0;34m\u001B[0m\u001B[0m\n\u001B[0;32m---> 68\u001B[0;31m     \u001B[0mpreprocess_and_extract_features_to_disk\u001B[0m\u001B[0;34m(\u001B[0m\u001B[0mfNameOnly\u001B[0m\u001B[0;34m,\u001B[0m \u001B[0mmask\u001B[0m\u001B[0;34m=\u001B[0m\u001B[0mimage\u001B[0m\u001B[0;34m,\u001B[0m \u001B[0mdist\u001B[0m\u001B[0;34m=\u001B[0m\u001B[0;34m'dist/02'\u001B[0m\u001B[0;34m,\u001B[0m \u001B[0mdoPlot\u001B[0m\u001B[0;34m=\u001B[0m\u001B[0;32mTrue\u001B[0m \u001B[0;32mif\u001B[0m \u001B[0midx\u001B[0m \u001B[0;34m==\u001B[0m \u001B[0;36m0\u001B[0m \u001B[0;32melse\u001B[0m \u001B[0;32mFalse\u001B[0m\u001B[0;34m)\u001B[0m\u001B[0;34m\u001B[0m\u001B[0;34m\u001B[0m\u001B[0m\n\u001B[0m\u001B[1;32m     69\u001B[0m     \u001B[0midx\u001B[0m \u001B[0;34m=\u001B[0m \u001B[0midx\u001B[0m \u001B[0;34m+\u001B[0m \u001B[0;36m1\u001B[0m\u001B[0;34m\u001B[0m\u001B[0;34m\u001B[0m\u001B[0m\n\u001B[1;32m     70\u001B[0m \u001B[0;34m\u001B[0m\u001B[0m\n",
      "\u001B[0;32m/tmp/ipykernel_4104/962647386.py\u001B[0m in \u001B[0;36mpreprocess_and_extract_features_to_disk\u001B[0;34m(imageName, image, mask, dist, doPlot)\u001B[0m\n\u001B[1;32m     22\u001B[0m \u001B[0;34m\u001B[0m\u001B[0m\n\u001B[1;32m     23\u001B[0m \u001B[0;32mdef\u001B[0m \u001B[0mpreprocess_and_extract_features_to_disk\u001B[0m\u001B[0;34m(\u001B[0m\u001B[0mimageName\u001B[0m\u001B[0;34m,\u001B[0m \u001B[0mimage\u001B[0m\u001B[0;34m=\u001B[0m\u001B[0;32mNone\u001B[0m\u001B[0;34m,\u001B[0m \u001B[0mmask\u001B[0m\u001B[0;34m=\u001B[0m\u001B[0;32mNone\u001B[0m\u001B[0;34m,\u001B[0m \u001B[0mdist\u001B[0m \u001B[0;34m=\u001B[0m \u001B[0;34m'dist'\u001B[0m\u001B[0;34m,\u001B[0m \u001B[0mdoPlot\u001B[0m \u001B[0;34m=\u001B[0m \u001B[0;32mTrue\u001B[0m\u001B[0;34m)\u001B[0m\u001B[0;34m:\u001B[0m\u001B[0;34m\u001B[0m\u001B[0;34m\u001B[0m\u001B[0m\n\u001B[0;32m---> 24\u001B[0;31m     \u001B[0mresults\u001B[0m \u001B[0;34m=\u001B[0m \u001B[0mpreprocess_and_extract_features_in_memory\u001B[0m\u001B[0;34m(\u001B[0m\u001B[0mimageName\u001B[0m\u001B[0;34m,\u001B[0m \u001B[0mimage\u001B[0m\u001B[0;34m,\u001B[0m \u001B[0mmask\u001B[0m\u001B[0;34m,\u001B[0m \u001B[0mdoPlot\u001B[0m\u001B[0;34m)\u001B[0m\u001B[0;34m\u001B[0m\u001B[0;34m\u001B[0m\u001B[0m\n\u001B[0m\u001B[1;32m     25\u001B[0m     \u001B[0mfeat\u001B[0m \u001B[0;34m=\u001B[0m \u001B[0mresults\u001B[0m\u001B[0;34m[\u001B[0m\u001B[0;36m1\u001B[0m\u001B[0;34m]\u001B[0m\u001B[0;34m\u001B[0m\u001B[0;34m\u001B[0m\u001B[0m\n\u001B[1;32m     26\u001B[0m     \u001B[0mPath\u001B[0m\u001B[0;34m(\u001B[0m\u001B[0mdist\u001B[0m\u001B[0;34m)\u001B[0m\u001B[0;34m.\u001B[0m\u001B[0mmkdir\u001B[0m\u001B[0;34m(\u001B[0m\u001B[0mparents\u001B[0m\u001B[0;34m=\u001B[0m\u001B[0;32mTrue\u001B[0m\u001B[0;34m,\u001B[0m \u001B[0mexist_ok\u001B[0m\u001B[0;34m=\u001B[0m\u001B[0;32mTrue\u001B[0m\u001B[0;34m)\u001B[0m\u001B[0;34m\u001B[0m\u001B[0;34m\u001B[0m\u001B[0m\n",
      "\u001B[0;32m/tmp/ipykernel_4104/962647386.py\u001B[0m in \u001B[0;36mpreprocess_and_extract_features_in_memory\u001B[0;34m(imageName, image, mask, doPlot)\u001B[0m\n\u001B[1;32m     11\u001B[0m \u001B[0;34m\u001B[0m\u001B[0m\n\u001B[1;32m     12\u001B[0m     \u001B[0mfeatureStart\u001B[0m \u001B[0;34m=\u001B[0m \u001B[0mtime\u001B[0m\u001B[0;34m.\u001B[0m\u001B[0mtime\u001B[0m\u001B[0;34m(\u001B[0m\u001B[0;34m)\u001B[0m\u001B[0;34m\u001B[0m\u001B[0;34m\u001B[0m\u001B[0m\n\u001B[0;32m---> 13\u001B[0;31m     \u001B[0mstats\u001B[0m \u001B[0;34m=\u001B[0m \u001B[0mLesionMaskStats\u001B[0m\u001B[0;34m(\u001B[0m\u001B[0mmask\u001B[0m\u001B[0;34m)\u001B[0m\u001B[0;34m\u001B[0m\u001B[0;34m\u001B[0m\u001B[0m\n\u001B[0m\u001B[1;32m     14\u001B[0m     \u001B[0masymmetryScore\u001B[0m \u001B[0;34m=\u001B[0m \u001B[0masymmetry\u001B[0m\u001B[0;34m.\u001B[0m\u001B[0mgetAsymmetryScore\u001B[0m\u001B[0;34m(\u001B[0m\u001B[0mstats\u001B[0m\u001B[0;34m,\u001B[0m \u001B[0mdoPlot\u001B[0m\u001B[0;34m)\u001B[0m\u001B[0;34m\u001B[0m\u001B[0;34m\u001B[0m\u001B[0m\n\u001B[1;32m     15\u001B[0m \u001B[0;34m\u001B[0m\u001B[0m\n",
      "\u001B[0;32m~/dev/ISIC-artifact-removal/src/feature_extraction/image_stats.py\u001B[0m in \u001B[0;36m__init__\u001B[0;34m(self, _image)\u001B[0m\n\u001B[1;32m     45\u001B[0m         \u001B[0mimage\u001B[0m \u001B[0;34m=\u001B[0m \u001B[0mrescale\u001B[0m\u001B[0;34m(\u001B[0m\u001B[0m_image\u001B[0m\u001B[0;34m,\u001B[0m \u001B[0;36m0.1\u001B[0m\u001B[0;34m)\u001B[0m\u001B[0;34m\u001B[0m\u001B[0;34m\u001B[0m\u001B[0m\n\u001B[1;32m     46\u001B[0m         \u001B[0mself\u001B[0m\u001B[0;34m.\u001B[0m\u001B[0mregion\u001B[0m \u001B[0;34m=\u001B[0m \u001B[0mLesionMaskStats\u001B[0m\u001B[0;34m.\u001B[0m\u001B[0mlargestRegion\u001B[0m\u001B[0;34m(\u001B[0m\u001B[0mimage\u001B[0m\u001B[0;34m)\u001B[0m\u001B[0;34m\u001B[0m\u001B[0;34m\u001B[0m\u001B[0m\n\u001B[0;32m---> 47\u001B[0;31m         \u001B[0mself\u001B[0m\u001B[0;34m.\u001B[0m\u001B[0mimage\u001B[0m \u001B[0;34m=\u001B[0m \u001B[0mrotate\u001B[0m\u001B[0;34m(\u001B[0m\u001B[0mimage\u001B[0m\u001B[0;34m,\u001B[0m \u001B[0;34m-\u001B[0m\u001B[0;36m1\u001B[0m\u001B[0;34m*\u001B[0m\u001B[0mself\u001B[0m\u001B[0;34m.\u001B[0m\u001B[0mregion\u001B[0m\u001B[0;34m.\u001B[0m\u001B[0morientation\u001B[0m\u001B[0;34m*\u001B[0m\u001B[0;36m180\u001B[0m\u001B[0;34m/\u001B[0m\u001B[0mmath\u001B[0m\u001B[0;34m.\u001B[0m\u001B[0mpi\u001B[0m\u001B[0;34m)\u001B[0m\u001B[0;34m\u001B[0m\u001B[0;34m\u001B[0m\u001B[0m\n\u001B[0m\u001B[1;32m     48\u001B[0m         \u001B[0mself\u001B[0m\u001B[0;34m.\u001B[0m\u001B[0mregion\u001B[0m \u001B[0;34m=\u001B[0m \u001B[0mLesionMaskStats\u001B[0m\u001B[0;34m.\u001B[0m\u001B[0mlargestRegion\u001B[0m\u001B[0;34m(\u001B[0m\u001B[0mself\u001B[0m\u001B[0;34m.\u001B[0m\u001B[0mimage\u001B[0m\u001B[0;34m)\u001B[0m\u001B[0;34m\u001B[0m\u001B[0;34m\u001B[0m\u001B[0m\n\u001B[1;32m     49\u001B[0m         \u001B[0mself\u001B[0m\u001B[0;34m.\u001B[0m\u001B[0msides\u001B[0m \u001B[0;34m=\u001B[0m \u001B[0mLesionMaskStats\u001B[0m\u001B[0;34m.\u001B[0m\u001B[0mmajorSides\u001B[0m\u001B[0;34m(\u001B[0m\u001B[0mself\u001B[0m\u001B[0;34m)\u001B[0m\u001B[0;34m\u001B[0m\u001B[0;34m\u001B[0m\u001B[0m\n",
      "\u001B[0;31mAttributeError\u001B[0m: 'bool' object has no attribute 'orientation'"
     ]
    },
    {
     "data": {
      "text/plain": "<Figure size 432x288 with 4 Axes>",
      "image/png": "[encoded data removed]"
     },
     "metadata": {
      "needs_background": "light"
     },
     "output_type": "display_data"
    }
   ],
   "source": [
    "import time\n",
    "import csv\n",
    "from pathlib import Path\n",
    "from skimage import io\n",
    "import os\n",
    "from shared.features import  LesionFeatures\n",
    "from shared import (get_file_names, read_image)\n",
    "from feature_extraction import asymmetry\n",
    "from feature_extraction.image_stats import LesionMaskStats\n",
    "\n",
    "def preprocess_and_extract_features_in_memory(imageName, mask=None, doPlot = True):\n",
    "    featureStart = time.time()\n",
    "\n",
    "    try:\n",
    "        stats = LesionMaskStats(mask)\n",
    "        asymmetryScore = asymmetry.getAsymmetryScore(stats, doPlot)\n",
    "    except:\n",
    "        print('Could not ')\n",
    "    featureEnd = time.time()\n",
    "    features = LesionFeatures(asymmetryScore)\n",
    "    return features, featureEnd - featureStart\n",
    "\n",
    "def preprocess_and_extract_features_to_disk(imageName, mask=None, dist = 'dist', doPlot = True):\n",
    "    results = preprocess_and_extract_features_in_memory(imageName, image, mask, doPlot)\n",
    "    feat = results[1]\n",
    "    Path(dist).mkdir(parents=True, exist_ok=True)\n",
    "    Path(f'{dist}/images').mkdir(parents=True, exist_ok=True)\n",
    "    if results[0]:\n",
    "        io.imsave(f'{dist}/images/{fNameOnly}', results[0])\n",
    "\n",
    "    if os.path.exists(f'{dist}/features.csv') == False:\n",
    "        f = open(f'{dist}/features.csv', 'w+')\n",
    "        writer = csv.writer(f, lineterminator='\\n')\n",
    "        writer.writerow(['Image'] + feat.featureNamesList + ['featureCalculationTime'])\n",
    "        writer.writerow([imageName] + feat.featuresList() + [results[2]])\n",
    "        f.close()\n",
    "    else:\n",
    "        f = open(f'{dist}/features.csv', 'a')\n",
    "        writer = csv.writer(f, lineterminator='\\n')\n",
    "        writer.writerow([imageName] + feat.featuresList() + [results[2]])\n",
    "        f.close()\n",
    "\n",
    "\n",
    "\n",
    "idx = 0\n",
    "maskFilenames = get_file_names.getImagesInDir('/media/austin/Extreme 500/ISIC/masks', 'ISIC')\n",
    "for f in maskFilenames:\n",
    "    print('Processing image ', idx + 1, '/', len(maskFilenames))\n",
    "    fPath = f.split('/')\n",
    "    fNameOnly = fPath[-1]\n",
    "\n",
    "    fNameNoExt = fNameOnly.split('.')[0]\n",
    "\n",
    "    # maskPaths = fPath.copy()\n",
    "    # maskName = fNameNoExt + '_mask.bmp'\n",
    "    # maskPaths[-1] = maskName\n",
    "    # maskPath = '/'.join(maskPaths)\n",
    "    # print(f)\n",
    "    # print(maskPath)\n",
    "\n",
    "\n",
    "    #print('...reading image')\n",
    "    image = read_image.readImage(f)\n",
    "    #mask = read_image.readImage(maskPath)\n",
    "\n",
    "    preprocess_and_extract_features_to_disk(fNameOnly, mask=image, dist='dist/02', doPlot=True if idx == 0 else False)\n",
    "    idx = idx + 1\n"
   ]
  }
 ],
 "metadata": {
  "kernelspec": {
   "display_name": "Python 3",
   "language": "python",
   "name": "python3"
  },
  "language_info": {
   "codemirror_mode": {
    "name": "ipython",
    "version": 2
   },
   "file_extension": ".py",
   "mimetype": "text/x-python",
   "name": "python",
   "nbconvert_exporter": "python",
   "pygments_lexer": "ipython2",
   "version": "2.7.6"
  }
 },
 "nbformat": 4,
 "nbformat_minor": 0
}